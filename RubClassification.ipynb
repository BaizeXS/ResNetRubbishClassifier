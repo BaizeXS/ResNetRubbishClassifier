{
  "cells": [
    {
      "attachments": {},
      "cell_type": "markdown",
      "metadata": {
        "id": "fyjuqoSvfN2C"
      },
      "source": [
        "### NVIDIA Information"
      ]
    },
    {
      "cell_type": "code",
      "execution_count": null,
      "metadata": {
        "colab": {
          "base_uri": "https://localhost:8080/"
        },
        "id": "a8gR9y1MIeWB",
        "outputId": "bc708c3a-4c84-424d-8abb-ba5582a3109b"
      },
      "outputs": [
        {
          "name": "stdout",
          "output_type": "stream",
          "text": [
            "Mon Nov 28 07:18:32 2022       \n",
            "+-----------------------------------------------------------------------------+\n",
            "| NVIDIA-SMI 460.32.03    Driver Version: 460.32.03    CUDA Version: 11.2     |\n",
            "|-------------------------------+----------------------+----------------------+\n",
            "| GPU  Name        Persistence-M| Bus-Id        Disp.A | Volatile Uncorr. ECC |\n",
            "| Fan  Temp  Perf  Pwr:Usage/Cap|         Memory-Usage | GPU-Util  Compute M. |\n",
            "|                               |                      |               MIG M. |\n",
            "|===============================+======================+======================|\n",
            "|   0  A100-SXM4-40GB      Off  | 00000000:00:04.0 Off |                    0 |\n",
            "| N/A   26C    P0    42W / 400W |      0MiB / 40536MiB |      0%      Default |\n",
            "|                               |                      |             Disabled |\n",
            "+-------------------------------+----------------------+----------------------+\n",
            "                                                                               \n",
            "+-----------------------------------------------------------------------------+\n",
            "| Processes:                                                                  |\n",
            "|  GPU   GI   CI        PID   Type   Process name                  GPU Memory |\n",
            "|        ID   ID                                                   Usage      |\n",
            "|=============================================================================|\n",
            "|  No running processes found                                                 |\n",
            "+-----------------------------------------------------------------------------+\n"
          ]
        }
      ],
      "source": [
        "!nvidia-smi"
      ]
    },
    {
      "attachments": {},
      "cell_type": "markdown",
      "metadata": {
        "id": "BaM_Ognw-xj9"
      },
      "source": [
        "### 0. Import Libraries"
      ]
    },
    {
      "cell_type": "code",
      "execution_count": null,
      "metadata": {
        "id": "wSqEltmvKXAi"
      },
      "outputs": [],
      "source": [
        "import os\n",
        "import json\n",
        "\n",
        "from google.colab import drive\n",
        "from PIL import Image\n",
        "from matplotlib import pyplot as plt\n",
        "\n",
        "import albumentations as A\n",
        "from albumentations.pytorch import ToTensorV2\n",
        "\n",
        "import torch\n",
        "import torch.nn as nn\n",
        "from torch.nn import functional as F\n",
        "from torch.utils.data import Dataset, DataLoader\n",
        "from torchvision import transforms\n",
        "\n",
        "from tqdm import tqdm"
      ]
    },
    {
      "attachments": {},
      "cell_type": "markdown",
      "metadata": {
        "id": "rVmzOk1TCM2m"
      },
      "source": [
        "### 1. Connect to Google Drive"
      ]
    },
    {
      "cell_type": "code",
      "execution_count": null,
      "metadata": {
        "id": "7ld_XQaRCKHb"
      },
      "outputs": [],
      "source": [
        "drive.mount('/content/drive')\n",
        "path = \"/content/drive/MyDrive/RubClassifier\"\n",
        "print(\"云盘路径：\" + path)"
      ]
    },
    {
      "attachments": {},
      "cell_type": "markdown",
      "metadata": {
        "id": "J5bYj8mL_FCu"
      },
      "source": [
        "### 2. RubDataset Class"
      ]
    },
    {
      "cell_type": "code",
      "execution_count": null,
      "metadata": {
        "id": "wKsc2e1T_KMu"
      },
      "outputs": [],
      "source": [
        "class RubDataset(Dataset):\n",
        "    def __init__(self, json_path, transform):\n",
        "        with open(json_path, 'r') as f:\n",
        "            self.dataset = json.load(f)\n",
        "        self.transform = transform\n",
        "\n",
        "    def __getitem__(self, idx):\n",
        "        item_path = path + \"/\" + self.dataset[idx]['path']\n",
        "        image = Image.open(item_path)\n",
        "        image = self.transform(image)\n",
        "        label = self.dataset[idx]['label']\n",
        "        label = int(label)\n",
        "        return image, label\n",
        "\n",
        "    def __len__(self):\n",
        "        return len(self.dataset)"
      ]
    },
    {
      "attachments": {},
      "cell_type": "markdown",
      "metadata": {
        "id": "2m2Y3Swr_ON-"
      },
      "source": [
        "### 3. ResNet Class"
      ]
    },
    {
      "cell_type": "code",
      "execution_count": null,
      "metadata": {
        "id": "hSG1WQ6B_Sl4"
      },
      "outputs": [],
      "source": [
        "class ResidualBlock(nn.Module):\n",
        "    expansion = 1\n",
        "\n",
        "    def __init__(self, in_channel, out_channel, stride=1, downsample=None):\n",
        "        super(ResidualBlock, self).__init__()\n",
        "        self.prior = nn.Sequential(\n",
        "            nn.Conv2d(in_channels=in_channel, out_channels=out_channel,\n",
        "                      kernel_size=3, stride=stride, padding=1, bias=False),\n",
        "            nn.BatchNorm2d(out_channel),\n",
        "            nn.ReLU(inplace=True),\n",
        "            nn.Conv2d(in_channels=out_channel, out_channels=out_channel,\n",
        "                      kernel_size=3, stride=1, padding=1, bias=False),\n",
        "            nn.BatchNorm2d(out_channel)\n",
        "        )\n",
        "        self.downsample = downsample\n",
        "\n",
        "    def forward(self, x):\n",
        "        shortcut = x\n",
        "        # 层间连接为虚线连接，借助下采样实现规格统一\n",
        "        if self.downsample is not None:\n",
        "            shortcut = self.downsample(x)\n",
        "        out = self.prior(x)\n",
        "        out += shortcut\n",
        "        out = F.relu(out)\n",
        "        return out\n",
        "\n",
        "\n",
        "class Bottleneck(nn.Module):\n",
        "    expansion = 4\n",
        "\n",
        "    def __init__(self, in_channel, out_channel, stride=1, downsample=None):\n",
        "        super(Bottleneck, self).__init__()\n",
        "        self.prior = nn.Sequential(\n",
        "            # First Layer\n",
        "            nn.Conv2d(in_channels=in_channel, out_channels=out_channel,\n",
        "                      kernel_size=1, stride=1, bias=False),\n",
        "            nn.BatchNorm2d(out_channel),\n",
        "            nn.ReLU(inplace=True),\n",
        "            # Second Layer\n",
        "            nn.Conv2d(in_channels=out_channel, out_channels=out_channel,\n",
        "                      kernel_size=3, stride=stride, padding=1, bias=False),\n",
        "            nn.BatchNorm2d(out_channel),\n",
        "            nn.ReLU(inplace=True),\n",
        "            # Third Layer\n",
        "            nn.Conv2d(in_channels=out_channel, out_channels=out_channel * self.expansion,\n",
        "                      kernel_size=1, stride=1, bias=False),\n",
        "            nn.BatchNorm2d(out_channel * self.expansion)\n",
        "        )\n",
        "        self.downsample = downsample\n",
        "\n",
        "    def forward(self, x):\n",
        "        shortcut = x\n",
        "        if self.downsample is not None:\n",
        "            shortcut = self.downsample(x)\n",
        "        out = self.prior(x)\n",
        "        out += shortcut\n",
        "        out = F.relu(out)\n",
        "        return out\n",
        "\n",
        "\n",
        "class ResNet(nn.Module):\n",
        "    def __init__(self, block, blocks_num, num_classes=1000, include_top=True):\n",
        "        super(ResNet, self).__init__()\n",
        "        self.include_top = include_top\n",
        "        self.in_channel = 64\n",
        "        self.pre = nn.Sequential(\n",
        "            nn.Conv2d(in_channels=3, out_channels=self.in_channel,\n",
        "                      kernel_size=7, stride=2, padding=3, bias=False),\n",
        "            nn.BatchNorm2d(self.in_channel),\n",
        "            nn.ReLU(inplace=True),\n",
        "            nn.MaxPool2d(kernel_size=3, stride=2, padding=1)\n",
        "        )\n",
        "        self.layer1 = self._make_layer(block, 64, blocks_num[0])\n",
        "        self.layer2 = self._make_layer(block, 128, blocks_num[1], stride=2)\n",
        "        self.layer3 = self._make_layer(block, 256, blocks_num[2], stride=2)\n",
        "        self.layer4 = self._make_layer(block, 512, blocks_num[3], stride=2)\n",
        "\n",
        "        if self.include_top:\n",
        "            self.avgpool = nn.AdaptiveAvgPool2d((1, 1))\n",
        "            self.fc = nn.Linear(512 * block.expansion, num_classes)\n",
        "\n",
        "        for m in self.modules():\n",
        "            if isinstance(m, nn.Conv2d):\n",
        "                nn.init.kaiming_normal_(m.weight, mode='fan_out', nonlinearity='relu')\n",
        "\n",
        "    def _make_layer(self, block, channel, blocks_num, stride=1):\n",
        "        downsample = None\n",
        "        if stride != 1 or self.in_channel != channel * block.expansion:\n",
        "            downsample = nn.Sequential(\n",
        "                nn.Conv2d(self.in_channel, channel * block.expansion,\n",
        "                          kernel_size=1, stride=stride, bias=False),\n",
        "                nn.BatchNorm2d(channel * block.expansion)\n",
        "            )\n",
        "        layers = []\n",
        "        layers.append(block(self.in_channel, channel, downsample=downsample, stride=stride))\n",
        "        self.in_channel = channel * block.expansion\n",
        "\n",
        "        for _ in range(1, blocks_num):\n",
        "            layers.append(block(self.in_channel, channel))\n",
        "        return nn.Sequential(*layers)\n",
        "\n",
        "    def forward(self, x):\n",
        "        x = self.pre(x)\n",
        "        x = self.layer1(x)\n",
        "        x = self.layer2(x)\n",
        "        x = self.layer3(x)\n",
        "        x = self.layer4(x)\n",
        "        if self.include_top:\n",
        "            x = self.avgpool(x)\n",
        "            x = torch.flatten(x, 1)\n",
        "            x = self.fc(x)\n",
        "        return x\n",
        "\n",
        "\n",
        "def resnet18(num_classes=1000, include_top=True):\n",
        "    return ResNet(ResidualBlock, [2, 2, 2, 2],\n",
        "                  num_classes=num_classes, include_top=include_top)\n",
        "\n",
        "\n",
        "def resnet34(num_classes=1000, include_top=True):\n",
        "    return ResNet(ResidualBlock, [3, 4, 6, 3],\n",
        "                  num_classes=num_classes, include_top=include_top)\n",
        "\n",
        "\n",
        "def resnet50(num_classes=1000, include_top=True):\n",
        "    return ResNet(Bottleneck, [3, 4, 6, 3],\n",
        "                  num_classes=num_classes, include_top=include_top)\n",
        "\n",
        "\n",
        "def resnet101(num_classes=1000, include_top=True):\n",
        "    return ResNet(Bottleneck, [3, 4, 23, 3],\n",
        "                  num_classes=num_classes, include_top=include_top)"
      ]
    },
    {
      "attachments": {},
      "cell_type": "markdown",
      "metadata": {
        "id": "fzbzYsXx_bBx"
      },
      "source": [
        "### 4. Set Parameters"
      ]
    },
    {
      "cell_type": "code",
      "execution_count": null,
      "metadata": {
        "id": "rggf4XC8_d98"
      },
      "outputs": [],
      "source": [
        "# Path Variables\n",
        "train_path = path + \"/RubbishClassification/train.json\"\n",
        "val_path = path + \"/RubbishClassification/val.json\"\n",
        "model_weight_path = path + \"/ResNetModels/ResNet68.pth\"\n",
        "save_path = path + \"/ResNetModels\"\n",
        "# Training Parameters\n",
        "learning_rate = 1e-4\n",
        "batch_size = 32\n",
        "epochs = 80\n",
        "# Train Device\n",
        "device = torch.device(\"cuda:0\" if torch.cuda.is_available() else \"cpu\")\n",
        "print(\"Training device: {}\".format(device))"
      ]
    },
    {
      "attachments": {},
      "cell_type": "markdown",
      "metadata": {
        "id": "6jY55UtShRYk"
      },
      "source": [
        "### 5. Set Transforms"
      ]
    },
    {
      "cell_type": "code",
      "execution_count": null,
      "metadata": {
        "id": "Ep3Lt9aohWxK"
      },
      "outputs": [],
      "source": [
        "# PyTorch Transforms\n",
        "transform4train = transforms.Compose([\n",
        "    transforms.Resize(256),\n",
        "    transforms.RandomCrop(224),\n",
        "    transforms.RandomHorizontalFlip(p=0.5),\n",
        "    transforms.RandomVerticalFlip(p=0.5),\n",
        "    transforms.RandomRotation(90),\n",
        "    transforms.ToTensor(),\n",
        "    transforms.Normalize([0.485, 0.456, 0.406], [0.229, 0.224, 0.225])\n",
        "])\n",
        "transform4test = transforms.Compose([\n",
        "    transforms.Resize(256),\n",
        "    transforms.CenterCrop(224),\n",
        "    transforms.ToTensor(),\n",
        "    transforms.Normalize([0.485, 0.456, 0.406], [0.229, 0.224, 0.225])\n",
        "])\n",
        "# Albumentations Transforms\n",
        "albtrans4train = A.Compose([\n",
        "    A.Resize(height=256, width=256),\n",
        "    A.RandomCrop(height=224, width=224),\n",
        "    A.HorizontalFlip(p=0.5),\n",
        "    A.VerticalFlip(p=0.5),\n",
        "    A.OneOf([\n",
        "        A.IAAAdditiveGaussianNoise(),  # 将高斯噪声添加到输入图像\n",
        "        A.GaussNoise(),  # 将高斯噪声应用于输入图像\n",
        "    ], p=0.2),\n",
        "    A.OneOf([\n",
        "        A.MotionBlur(p=0.2),  # 使用随机大小的内核将运动模糊应用于输入图像\n",
        "        A.MedianBlur(blur_limit=3, p=0.1),  # 中值滤波\n",
        "        A.Blur(blur_limit=3, p=0.1),  # 使用随机大小的内核模糊输入图像\n",
        "    ], p=0.2),\n",
        "    # 随机应用仿射变换：平移，缩放和旋转输入\n",
        "    A.ShiftScaleRotate(shift_limit=0.0625, scale_limit=0.2, rotate_limit=45, p=0.2),\n",
        "    # 随机明亮对比度\n",
        "    A.RandomBrightnessContrast(p=0.2),\n",
        "    A.Normalize([0.485, 0.456, 0.406], [0.229, 0.224, 0.225]),\n",
        "    ToTensorV2()\n",
        "])\n",
        "albtrans4test = A.Compose([\n",
        "    A.Resize(height=256, width=256),\n",
        "    A.CenterCrop(height=224, width=224),\n",
        "    A.Normalize([0.485, 0.456, 0.406], [0.229, 0.224, 0.225]),\n",
        "    ToTensorV2()\n",
        "])"
      ]
    },
    {
      "attachments": {},
      "cell_type": "markdown",
      "metadata": {
        "id": "cqR-o5aG_mY_"
      },
      "source": [
        "### 6. Set Dataset and DataLoader"
      ]
    },
    {
      "cell_type": "code",
      "execution_count": null,
      "metadata": {
        "colab": {
          "base_uri": "https://localhost:8080/"
        },
        "id": "Ai6xjaSr_o2O",
        "outputId": "f7ec5f3c-8634-4177-a175-d1150952903a"
      },
      "outputs": [
        {
          "name": "stderr",
          "output_type": "stream",
          "text": [
            "/usr/local/lib/python3.7/dist-packages/albumentations/imgaug/transforms.py:263: FutureWarning: IAAAdditiveGaussianNoise is deprecated. Please use GaussNoise instead\n",
            "  warnings.warn(\"IAAAdditiveGaussianNoise is deprecated. Please use GaussNoise instead\", FutureWarning)\n"
          ]
        },
        {
          "name": "stdout",
          "output_type": "stream",
          "text": [
            "训练数据集的大小为: 4723\n",
            "测试数据集的大小为: 3303\n"
          ]
        }
      ],
      "source": [
        "# Set Train Dataset and Test Dataset\n",
        "train_data = RubDataset(train_path, transform4train)\n",
        "test_data = RubDataset(val_path, transform4test)\n",
        "# Set Train DataLoader and Test DataLoader\n",
        "train_loader = DataLoader(dataset=train_data, batch_size=batch_size,\n",
        "                          shuffle=True, drop_last=False, num_workers=4)\n",
        "test_loader = DataLoader(dataset=test_data, batch_size=batch_size,\n",
        "                         shuffle=False, drop_last=False, num_workers=4)\n",
        "# Print Information about Datasets\n",
        "train_data_size = len(train_data)\n",
        "test_data_size = len(test_data)\n",
        "print(\"训练数据集的大小为: {}\".format(train_data_size))\n",
        "print(\"测试数据集的大小为: {}\".format(test_data_size))"
      ]
    },
    {
      "attachments": {},
      "cell_type": "markdown",
      "metadata": {
        "id": "Lw-cq3ynAHVm"
      },
      "source": [
        "### 7. Set ResNet"
      ]
    },
    {
      "cell_type": "code",
      "execution_count": null,
      "metadata": {
        "id": "CsZh4w65AKwc"
      },
      "outputs": [],
      "source": [
        "# ResNet34模型\n",
        "net = resnet34()\n",
        "# ResNet50模型\n",
        "# net = resnet50()\n",
        "# 加载预训练ResNet网络模型（包含参数）\n",
        "# net = torch.load(model_weight_path)\n",
        "# 加载预训练ResNet网络权重参数\n",
        "net.load_state_dict(torch.load(model_weight_path), strict=False)\n",
        "# 根据数据集种类（16类）改变全连接层\n",
        "in_channel = net.fc.in_features\n",
        "net.fc = nn.Linear(in_channel, 16)\n",
        "# 网络模型根据设备进行转化\n",
        "net = net.to(device)\n",
        "# print(\"网络结构如下:\")\n",
        "# print(net)"
      ]
    },
    {
      "attachments": {},
      "cell_type": "markdown",
      "metadata": {
        "id": "XKpTSoPhAM_p"
      },
      "source": [
        "### 8. Set Loss Function and Optimizer"
      ]
    },
    {
      "cell_type": "code",
      "execution_count": null,
      "metadata": {
        "id": "dM_B4kgeAPmI"
      },
      "outputs": [],
      "source": [
        "# Set Loss Function\n",
        "loss_func = nn.CrossEntropyLoss()\n",
        "loss_func = loss_func.to(device)\n",
        "# Set Optimizer\n",
        "optimizer_adam = torch.optim.Adam(net.parameters(), lr=learning_rate, weight_decay=0.001)\n",
        "optimizer_sgd = torch.optim.SGD(net.parameters(), lr=learning_rate, weight_decay=0.001)\n",
        "optimizer = optimizer_adam"
      ]
    },
    {
      "attachments": {},
      "cell_type": "markdown",
      "metadata": {
        "id": "9Fj_U5wjAXg6"
      },
      "source": [
        "### 9. Train and Test"
      ]
    },
    {
      "cell_type": "code",
      "execution_count": null,
      "metadata": {
        "colab": {
          "base_uri": "https://localhost:8080/"
        },
        "id": "ofjvhL3CAZ0C",
        "outputId": "caa98d85-3e29-4bfd-f6b1-cc9f926c0b87"
      },
      "outputs": [
        {
          "name": "stdout",
          "output_type": "stream",
          "text": [
            "第 1 轮训练开始\n"
          ]
        },
        {
          "name": "stderr",
          "output_type": "stream",
          "text": [
            "100%|██████████| 148/148 [03:46<00:00,  1.53s/it]\n"
          ]
        },
        {
          "name": "stdout",
          "output_type": "stream",
          "text": [
            "Train-Loss: 0.7292468889825253, Train-Accuracy: 0.7531229853630066\n"
          ]
        },
        {
          "name": "stderr",
          "output_type": "stream",
          "text": [
            "100%|██████████| 104/104 [03:20<00:00,  1.93s/it]\n"
          ]
        },
        {
          "name": "stdout",
          "output_type": "stream",
          "text": [
            "Test-Loss: 1.4886448861539923, Test-Accuracy: 0.5855283141136169\n",
            "模型已保存\n",
            "第 2 轮训练开始\n"
          ]
        },
        {
          "name": "stderr",
          "output_type": "stream",
          "text": [
            "100%|██████████| 148/148 [00:18<00:00,  7.87it/s]\n"
          ]
        },
        {
          "name": "stdout",
          "output_type": "stream",
          "text": [
            "Train-Loss: 0.6900123249366328, Train-Accuracy: 0.769426167011261\n"
          ]
        },
        {
          "name": "stderr",
          "output_type": "stream",
          "text": [
            "100%|██████████| 104/104 [00:12<00:00,  8.00it/s]\n"
          ]
        },
        {
          "name": "stdout",
          "output_type": "stream",
          "text": [
            "Test-Loss: 1.500359539331684, Test-Accuracy: 0.5906751155853271\n",
            "模型已保存\n",
            "第 3 轮训练开始\n"
          ]
        },
        {
          "name": "stderr",
          "output_type": "stream",
          "text": [
            "100%|██████████| 148/148 [00:19<00:00,  7.57it/s]\n"
          ]
        },
        {
          "name": "stdout",
          "output_type": "stream",
          "text": [
            "Train-Loss: 0.7150718502995324, Train-Accuracy: 0.7592631578445435\n"
          ]
        },
        {
          "name": "stderr",
          "output_type": "stream",
          "text": [
            "100%|██████████| 104/104 [00:13<00:00,  8.00it/s]\n"
          ]
        },
        {
          "name": "stdout",
          "output_type": "stream",
          "text": [
            "Test-Loss: 1.4486736483982465, Test-Accuracy: 0.5915834307670593\n",
            "模型已保存\n",
            "第 4 轮训练开始\n"
          ]
        },
        {
          "name": "stderr",
          "output_type": "stream",
          "text": [
            "100%|██████████| 148/148 [00:19<00:00,  7.60it/s]\n"
          ]
        },
        {
          "name": "stdout",
          "output_type": "stream",
          "text": [
            "Train-Loss: 0.6658890209358526, Train-Accuracy: 0.7810713648796082\n"
          ]
        },
        {
          "name": "stderr",
          "output_type": "stream",
          "text": [
            "100%|██████████| 104/104 [00:12<00:00,  8.06it/s]\n"
          ]
        },
        {
          "name": "stdout",
          "output_type": "stream",
          "text": [
            "Test-Loss: 1.4719666023345344, Test-Accuracy: 0.6012715697288513\n",
            "模型已保存\n",
            "第 5 轮训练开始\n"
          ]
        },
        {
          "name": "stderr",
          "output_type": "stream",
          "text": [
            "100%|██████████| 148/148 [00:19<00:00,  7.73it/s]\n"
          ]
        },
        {
          "name": "stdout",
          "output_type": "stream",
          "text": [
            "Train-Loss: 0.6567724030350518, Train-Accuracy: 0.7719669342041016\n"
          ]
        },
        {
          "name": "stderr",
          "output_type": "stream",
          "text": [
            "100%|██████████| 104/104 [00:12<00:00,  8.01it/s]\n"
          ]
        },
        {
          "name": "stdout",
          "output_type": "stream",
          "text": [
            "Test-Loss: 1.5166805066955549, Test-Accuracy: 0.5840145349502563\n",
            "模型已保存\n",
            "第 6 轮训练开始\n"
          ]
        },
        {
          "name": "stderr",
          "output_type": "stream",
          "text": [
            "100%|██████████| 148/148 [00:19<00:00,  7.47it/s]\n"
          ]
        },
        {
          "name": "stdout",
          "output_type": "stream",
          "text": [
            "Train-Loss: 0.6682464930558392, Train-Accuracy: 0.7751429080963135\n"
          ]
        },
        {
          "name": "stderr",
          "output_type": "stream",
          "text": [
            "100%|██████████| 104/104 [00:12<00:00,  8.03it/s]\n"
          ]
        },
        {
          "name": "stdout",
          "output_type": "stream",
          "text": [
            "Test-Loss: 1.4471509111061118, Test-Accuracy: 0.6039963364601135\n",
            "模型已保存\n",
            "第 7 轮训练开始\n"
          ]
        },
        {
          "name": "stderr",
          "output_type": "stream",
          "text": [
            "100%|██████████| 148/148 [00:19<00:00,  7.48it/s]\n"
          ]
        },
        {
          "name": "stdout",
          "output_type": "stream",
          "text": [
            "Train-Loss: 0.6734535052517373, Train-Accuracy: 0.7766250371932983\n"
          ]
        },
        {
          "name": "stderr",
          "output_type": "stream",
          "text": [
            "100%|██████████| 104/104 [00:12<00:00,  8.03it/s]\n"
          ]
        },
        {
          "name": "stdout",
          "output_type": "stream",
          "text": [
            "Test-Loss: 1.5717367100203141, Test-Accuracy: 0.5767484307289124\n",
            "模型已保存\n",
            "第 8 轮训练开始\n"
          ]
        },
        {
          "name": "stderr",
          "output_type": "stream",
          "text": [
            "100%|██████████| 148/148 [00:18<00:00,  7.95it/s]\n"
          ]
        },
        {
          "name": "stdout",
          "output_type": "stream",
          "text": [
            "Train-Loss: 0.6466612254894313, Train-Accuracy: 0.7800126671791077\n"
          ]
        },
        {
          "name": "stderr",
          "output_type": "stream",
          "text": [
            "100%|██████████| 104/104 [00:12<00:00,  8.07it/s]\n"
          ]
        },
        {
          "name": "stdout",
          "output_type": "stream",
          "text": [
            "Test-Loss: 1.5945053426128715, Test-Accuracy: 0.585225522518158\n",
            "模型已保存\n",
            "第 9 轮训练开始\n"
          ]
        },
        {
          "name": "stderr",
          "output_type": "stream",
          "text": [
            "100%|██████████| 148/148 [00:19<00:00,  7.58it/s]\n"
          ]
        },
        {
          "name": "stdout",
          "output_type": "stream",
          "text": [
            "Train-Loss: 0.624568979580625, Train-Accuracy: 0.7865763306617737\n"
          ]
        },
        {
          "name": "stderr",
          "output_type": "stream",
          "text": [
            "100%|██████████| 104/104 [00:13<00:00,  7.95it/s]\n"
          ]
        },
        {
          "name": "stdout",
          "output_type": "stream",
          "text": [
            "Test-Loss: 1.461616758285347, Test-Accuracy: 0.5952164530754089\n",
            "模型已保存\n",
            "第 10 轮训练开始\n"
          ]
        },
        {
          "name": "stderr",
          "output_type": "stream",
          "text": [
            "100%|██████████| 148/148 [00:18<00:00,  7.89it/s]\n"
          ]
        },
        {
          "name": "stdout",
          "output_type": "stream",
          "text": [
            "Train-Loss: 0.6531482937475799, Train-Accuracy: 0.7810713648796082\n"
          ]
        },
        {
          "name": "stderr",
          "output_type": "stream",
          "text": [
            "100%|██████████| 104/104 [00:12<00:00,  8.03it/s]\n"
          ]
        },
        {
          "name": "stdout",
          "output_type": "stream",
          "text": [
            "Test-Loss: 1.5023394815134272, Test-Accuracy: 0.5955192446708679\n",
            "模型已保存\n",
            "第 11 轮训练开始\n"
          ]
        },
        {
          "name": "stderr",
          "output_type": "stream",
          "text": [
            "100%|██████████| 148/148 [00:19<00:00,  7.72it/s]\n"
          ]
        },
        {
          "name": "stdout",
          "output_type": "stream",
          "text": [
            "Train-Loss: 0.6566066053517915, Train-Accuracy: 0.7798009514808655\n"
          ]
        },
        {
          "name": "stderr",
          "output_type": "stream",
          "text": [
            "100%|██████████| 104/104 [00:12<00:00,  8.02it/s]\n"
          ]
        },
        {
          "name": "stdout",
          "output_type": "stream",
          "text": [
            "Test-Loss: 1.5082644187353829, Test-Accuracy: 0.6067211627960205\n",
            "模型已保存\n",
            "第 12 轮训练开始\n"
          ]
        },
        {
          "name": "stderr",
          "output_type": "stream",
          "text": [
            "100%|██████████| 148/148 [00:20<00:00,  7.36it/s]\n"
          ]
        },
        {
          "name": "stdout",
          "output_type": "stream",
          "text": [
            "Train-Loss: 0.6170261016897597, Train-Accuracy: 0.7973745465278625\n"
          ]
        },
        {
          "name": "stderr",
          "output_type": "stream",
          "text": [
            "100%|██████████| 104/104 [00:12<00:00,  8.01it/s]\n"
          ]
        },
        {
          "name": "stdout",
          "output_type": "stream",
          "text": [
            "Test-Loss: 1.471951974185351, Test-Accuracy: 0.5997577905654907\n",
            "模型已保存\n",
            "第 13 轮训练开始\n"
          ]
        },
        {
          "name": "stderr",
          "output_type": "stream",
          "text": [
            "100%|██████████| 148/148 [00:20<00:00,  7.25it/s]\n"
          ]
        },
        {
          "name": "stdout",
          "output_type": "stream",
          "text": [
            "Train-Loss: 0.6282816892353731, Train-Accuracy: 0.785305917263031\n"
          ]
        },
        {
          "name": "stderr",
          "output_type": "stream",
          "text": [
            "100%|██████████| 104/104 [00:13<00:00,  8.00it/s]\n"
          ]
        },
        {
          "name": "stdout",
          "output_type": "stream",
          "text": [
            "Test-Loss: 1.550866639545532, Test-Accuracy: 0.5815925002098083\n",
            "模型已保存\n",
            "第 14 轮训练开始\n"
          ]
        },
        {
          "name": "stderr",
          "output_type": "stream",
          "text": [
            "100%|██████████| 148/148 [00:19<00:00,  7.52it/s]\n"
          ]
        },
        {
          "name": "stdout",
          "output_type": "stream",
          "text": [
            "Train-Loss: 0.616032039642132, Train-Accuracy: 0.7961041331291199\n"
          ]
        },
        {
          "name": "stderr",
          "output_type": "stream",
          "text": [
            "100%|██████████| 104/104 [00:13<00:00,  7.98it/s]\n"
          ]
        },
        {
          "name": "stdout",
          "output_type": "stream",
          "text": [
            "Test-Loss: 1.5816214656671033, Test-Accuracy: 0.5840145349502563\n",
            "模型已保存\n",
            "第 15 轮训练开始\n"
          ]
        },
        {
          "name": "stderr",
          "output_type": "stream",
          "text": [
            "100%|██████████| 148/148 [00:19<00:00,  7.40it/s]\n"
          ]
        },
        {
          "name": "stdout",
          "output_type": "stream",
          "text": [
            "Train-Loss: 0.5917019644279287, Train-Accuracy: 0.8016091585159302\n"
          ]
        },
        {
          "name": "stderr",
          "output_type": "stream",
          "text": [
            "100%|██████████| 104/104 [00:13<00:00,  7.96it/s]\n"
          ]
        },
        {
          "name": "stdout",
          "output_type": "stream",
          "text": [
            "Test-Loss: 1.4586499812131646, Test-Accuracy: 0.6046018600463867\n",
            "模型已保存\n",
            "第 16 轮训练开始\n"
          ]
        },
        {
          "name": "stderr",
          "output_type": "stream",
          "text": [
            "100%|██████████| 148/148 [00:19<00:00,  7.62it/s]\n"
          ]
        },
        {
          "name": "stdout",
          "output_type": "stream",
          "text": [
            "Train-Loss: 0.5749156837137276, Train-Accuracy: 0.8096548914909363\n"
          ]
        },
        {
          "name": "stderr",
          "output_type": "stream",
          "text": [
            "100%|██████████| 104/104 [00:13<00:00,  7.96it/s]\n"
          ]
        },
        {
          "name": "stdout",
          "output_type": "stream",
          "text": [
            "Test-Loss: 1.531410828219231, Test-Accuracy: 0.5970330238342285\n",
            "模型已保存\n",
            "第 17 轮训练开始\n"
          ]
        },
        {
          "name": "stderr",
          "output_type": "stream",
          "text": [
            "100%|██████████| 148/148 [00:18<00:00,  7.84it/s]\n"
          ]
        },
        {
          "name": "stdout",
          "output_type": "stream",
          "text": [
            "Train-Loss: 0.5676409393807678, Train-Accuracy: 0.8054202795028687\n"
          ]
        },
        {
          "name": "stderr",
          "output_type": "stream",
          "text": [
            "100%|██████████| 104/104 [00:13<00:00,  7.92it/s]\n"
          ]
        },
        {
          "name": "stdout",
          "output_type": "stream",
          "text": [
            "Test-Loss: 1.5434208720552536, Test-Accuracy: 0.5812897086143494\n",
            "模型已保存\n",
            "第 18 轮训练开始\n"
          ]
        },
        {
          "name": "stderr",
          "output_type": "stream",
          "text": [
            "100%|██████████| 148/148 [00:19<00:00,  7.55it/s]\n"
          ]
        },
        {
          "name": "stdout",
          "output_type": "stream",
          "text": [
            "Train-Loss: 0.5818946915815726, Train-Accuracy: 0.8003387451171875\n"
          ]
        },
        {
          "name": "stderr",
          "output_type": "stream",
          "text": [
            "100%|██████████| 104/104 [00:12<00:00,  8.07it/s]\n"
          ]
        },
        {
          "name": "stdout",
          "output_type": "stream",
          "text": [
            "Test-Loss: 1.4704838689442588, Test-Accuracy: 0.6000605225563049\n",
            "模型已保存\n",
            "第 19 轮训练开始\n"
          ]
        },
        {
          "name": "stderr",
          "output_type": "stream",
          "text": [
            "100%|██████████| 148/148 [00:19<00:00,  7.42it/s]\n"
          ]
        },
        {
          "name": "stdout",
          "output_type": "stream",
          "text": [
            "Train-Loss: 0.5607193025862693, Train-Accuracy: 0.8096548914909363\n"
          ]
        },
        {
          "name": "stderr",
          "output_type": "stream",
          "text": [
            "100%|██████████| 104/104 [00:13<00:00,  7.99it/s]\n"
          ]
        },
        {
          "name": "stdout",
          "output_type": "stream",
          "text": [
            "Test-Loss: 1.5632939698874426, Test-Accuracy: 0.5921888947486877\n",
            "模型已保存\n",
            "第 20 轮训练开始\n"
          ]
        },
        {
          "name": "stderr",
          "output_type": "stream",
          "text": [
            "100%|██████████| 148/148 [00:19<00:00,  7.55it/s]\n"
          ]
        },
        {
          "name": "stdout",
          "output_type": "stream",
          "text": [
            "Train-Loss: 0.542925153411144, Train-Accuracy: 0.817065417766571\n"
          ]
        },
        {
          "name": "stderr",
          "output_type": "stream",
          "text": [
            "100%|██████████| 104/104 [00:12<00:00,  8.03it/s]\n"
          ]
        },
        {
          "name": "stdout",
          "output_type": "stream",
          "text": [
            "Test-Loss: 1.7195642877267485, Test-Accuracy: 0.5821980237960815\n",
            "模型已保存\n",
            "第 21 轮训练开始\n"
          ]
        },
        {
          "name": "stderr",
          "output_type": "stream",
          "text": [
            "100%|██████████| 148/148 [00:19<00:00,  7.65it/s]\n"
          ]
        },
        {
          "name": "stdout",
          "output_type": "stream",
          "text": [
            "Train-Loss: 0.5987287699456895, Train-Accuracy: 0.8026677966117859\n"
          ]
        },
        {
          "name": "stderr",
          "output_type": "stream",
          "text": [
            "100%|██████████| 104/104 [00:13<00:00,  7.97it/s]\n"
          ]
        },
        {
          "name": "stdout",
          "output_type": "stream",
          "text": [
            "Test-Loss: 1.465092215471617, Test-Accuracy: 0.6097487211227417\n",
            "模型已保存\n",
            "第 22 轮训练开始\n"
          ]
        },
        {
          "name": "stderr",
          "output_type": "stream",
          "text": [
            "100%|██████████| 148/148 [00:19<00:00,  7.78it/s]\n"
          ]
        },
        {
          "name": "stdout",
          "output_type": "stream",
          "text": [
            "Train-Loss: 0.5563910513668274, Train-Accuracy: 0.8077492713928223\n"
          ]
        },
        {
          "name": "stderr",
          "output_type": "stream",
          "text": [
            "100%|██████████| 104/104 [00:12<00:00,  8.02it/s]\n"
          ]
        },
        {
          "name": "stdout",
          "output_type": "stream",
          "text": [
            "Test-Loss: 1.504431391679046, Test-Accuracy: 0.6052073836326599\n",
            "模型已保存\n",
            "第 23 轮训练开始\n"
          ]
        },
        {
          "name": "stderr",
          "output_type": "stream",
          "text": [
            "100%|██████████| 148/148 [00:19<00:00,  7.50it/s]\n"
          ]
        },
        {
          "name": "stdout",
          "output_type": "stream",
          "text": [
            "Train-Loss: 0.5687307250681455, Train-Accuracy: 0.8060554265975952\n"
          ]
        },
        {
          "name": "stderr",
          "output_type": "stream",
          "text": [
            "100%|██████████| 104/104 [00:13<00:00,  7.97it/s]\n"
          ]
        },
        {
          "name": "stdout",
          "output_type": "stream",
          "text": [
            "Test-Loss: 1.5969923209898622, Test-Accuracy: 0.5785649418830872\n",
            "模型已保存\n",
            "第 24 轮训练开始\n"
          ]
        },
        {
          "name": "stderr",
          "output_type": "stream",
          "text": [
            "100%|██████████| 148/148 [00:20<00:00,  7.14it/s]\n"
          ]
        },
        {
          "name": "stdout",
          "output_type": "stream",
          "text": [
            "Train-Loss: 0.5315297321447396, Train-Accuracy: 0.8257463574409485\n"
          ]
        },
        {
          "name": "stderr",
          "output_type": "stream",
          "text": [
            "100%|██████████| 104/104 [00:13<00:00,  7.92it/s]\n"
          ]
        },
        {
          "name": "stdout",
          "output_type": "stream",
          "text": [
            "Test-Loss: 1.5599585224778731, Test-Accuracy: 0.6091431975364685\n",
            "模型已保存\n",
            "第 25 轮训练开始\n"
          ]
        },
        {
          "name": "stderr",
          "output_type": "stream",
          "text": [
            "100%|██████████| 148/148 [00:19<00:00,  7.60it/s]\n"
          ]
        },
        {
          "name": "stdout",
          "output_type": "stream",
          "text": [
            "Train-Loss: 0.5208000370172936, Train-Accuracy: 0.8299809098243713\n"
          ]
        },
        {
          "name": "stderr",
          "output_type": "stream",
          "text": [
            "100%|██████████| 104/104 [00:13<00:00,  7.92it/s]\n"
          ]
        },
        {
          "name": "stdout",
          "output_type": "stream",
          "text": [
            "Test-Loss: 1.5189700233117038, Test-Accuracy: 0.6088404655456543\n",
            "模型已保存\n",
            "第 26 轮训练开始\n"
          ]
        },
        {
          "name": "stderr",
          "output_type": "stream",
          "text": [
            "100%|██████████| 148/148 [00:19<00:00,  7.59it/s]\n"
          ]
        },
        {
          "name": "stdout",
          "output_type": "stream",
          "text": [
            "Train-Loss: 0.5529732125279461, Train-Accuracy: 0.8162184953689575\n"
          ]
        },
        {
          "name": "stderr",
          "output_type": "stream",
          "text": [
            "100%|██████████| 104/104 [00:12<00:00,  8.03it/s]\n"
          ]
        },
        {
          "name": "stdout",
          "output_type": "stream",
          "text": [
            "Test-Loss: 1.516106961533549, Test-Accuracy: 0.6055101156234741\n",
            "模型已保存\n",
            "第 27 轮训练开始\n"
          ]
        },
        {
          "name": "stderr",
          "output_type": "stream",
          "text": [
            "100%|██████████| 148/148 [00:19<00:00,  7.65it/s]\n"
          ]
        },
        {
          "name": "stdout",
          "output_type": "stream",
          "text": [
            "Train-Loss: 0.5042640163992866, Train-Accuracy: 0.8289222717285156\n"
          ]
        },
        {
          "name": "stderr",
          "output_type": "stream",
          "text": [
            "100%|██████████| 104/104 [00:13<00:00,  7.92it/s]\n"
          ]
        },
        {
          "name": "stdout",
          "output_type": "stream",
          "text": [
            "Test-Loss: 1.4932015395474874, Test-Accuracy: 0.6070238947868347\n",
            "模型已保存\n",
            "第 28 轮训练开始\n"
          ]
        },
        {
          "name": "stderr",
          "output_type": "stream",
          "text": [
            "100%|██████████| 148/148 [00:19<00:00,  7.44it/s]\n"
          ]
        },
        {
          "name": "stdout",
          "output_type": "stream",
          "text": [
            "Train-Loss: 0.540681367023451, Train-Accuracy: 0.8206648230552673\n"
          ]
        },
        {
          "name": "stderr",
          "output_type": "stream",
          "text": [
            "100%|██████████| 104/104 [00:13<00:00,  7.95it/s]\n"
          ]
        },
        {
          "name": "stdout",
          "output_type": "stream",
          "text": [
            "Test-Loss: 1.4166354994466368, Test-Accuracy: 0.6260975003242493\n",
            "模型已保存\n",
            "第 29 轮训练开始\n"
          ]
        },
        {
          "name": "stderr",
          "output_type": "stream",
          "text": [
            "100%|██████████| 148/148 [00:19<00:00,  7.48it/s]\n"
          ]
        },
        {
          "name": "stdout",
          "output_type": "stream",
          "text": [
            "Train-Loss: 0.4916318522376982, Train-Accuracy: 0.8259580731391907\n"
          ]
        },
        {
          "name": "stderr",
          "output_type": "stream",
          "text": [
            "100%|██████████| 104/104 [00:13<00:00,  7.93it/s]\n"
          ]
        },
        {
          "name": "stdout",
          "output_type": "stream",
          "text": [
            "Test-Loss: 1.5618609980384834, Test-Accuracy: 0.5812897086143494\n",
            "模型已保存\n",
            "第 30 轮训练开始\n"
          ]
        },
        {
          "name": "stderr",
          "output_type": "stream",
          "text": [
            "100%|██████████| 148/148 [00:19<00:00,  7.69it/s]\n"
          ]
        },
        {
          "name": "stdout",
          "output_type": "stream",
          "text": [
            "Train-Loss: 0.5374692206586692, Train-Accuracy: 0.8185474872589111\n"
          ]
        },
        {
          "name": "stderr",
          "output_type": "stream",
          "text": [
            "100%|██████████| 104/104 [00:13<00:00,  7.85it/s]\n"
          ]
        },
        {
          "name": "stdout",
          "output_type": "stream",
          "text": [
            "Test-Loss: 1.5762879556141367, Test-Accuracy: 0.5967302322387695\n",
            "模型已保存\n",
            "第 31 轮训练开始\n"
          ]
        },
        {
          "name": "stderr",
          "output_type": "stream",
          "text": [
            "100%|██████████| 148/148 [00:19<00:00,  7.69it/s]\n"
          ]
        },
        {
          "name": "stdout",
          "output_type": "stream",
          "text": [
            "Train-Loss: 0.49502907833468984, Train-Accuracy: 0.8327333927154541\n"
          ]
        },
        {
          "name": "stderr",
          "output_type": "stream",
          "text": [
            "100%|██████████| 104/104 [00:13<00:00,  7.89it/s]\n"
          ]
        },
        {
          "name": "stdout",
          "output_type": "stream",
          "text": [
            "Test-Loss: 1.4419340985564078, Test-Accuracy: 0.6188313364982605\n",
            "模型已保存\n",
            "第 32 轮训练开始\n"
          ]
        },
        {
          "name": "stderr",
          "output_type": "stream",
          "text": [
            "100%|██████████| 148/148 [00:20<00:00,  7.15it/s]\n"
          ]
        },
        {
          "name": "stdout",
          "output_type": "stream",
          "text": [
            "Train-Loss: 0.5082207517605728, Train-Accuracy: 0.8257463574409485\n"
          ]
        },
        {
          "name": "stderr",
          "output_type": "stream",
          "text": [
            "100%|██████████| 104/104 [00:13<00:00,  7.95it/s]\n"
          ]
        },
        {
          "name": "stdout",
          "output_type": "stream",
          "text": [
            "Test-Loss: 1.4860232967771692, Test-Accuracy: 0.6139872670173645\n",
            "模型已保存\n",
            "第 33 轮训练开始\n"
          ]
        },
        {
          "name": "stderr",
          "output_type": "stream",
          "text": [
            "100%|██████████| 148/148 [00:20<00:00,  7.36it/s]\n"
          ]
        },
        {
          "name": "stdout",
          "output_type": "stream",
          "text": [
            "Train-Loss: 0.48078952954023946, Train-Accuracy: 0.8384501338005066\n"
          ]
        },
        {
          "name": "stderr",
          "output_type": "stream",
          "text": [
            "100%|██████████| 104/104 [00:13<00:00,  7.93it/s]\n"
          ]
        },
        {
          "name": "stdout",
          "output_type": "stream",
          "text": [
            "Test-Loss: 1.5209069642521127, Test-Accuracy: 0.6133817434310913\n",
            "模型已保存\n",
            "第 34 轮训练开始\n"
          ]
        },
        {
          "name": "stderr",
          "output_type": "stream",
          "text": [
            "100%|██████████| 148/148 [00:19<00:00,  7.50it/s]\n"
          ]
        },
        {
          "name": "stdout",
          "output_type": "stream",
          "text": [
            "Train-Loss: 0.5038085469825021, Train-Accuracy: 0.8259580731391907\n"
          ]
        },
        {
          "name": "stderr",
          "output_type": "stream",
          "text": [
            "100%|██████████| 104/104 [00:13<00:00,  7.91it/s]\n"
          ]
        },
        {
          "name": "stdout",
          "output_type": "stream",
          "text": [
            "Test-Loss: 1.5889079805724087, Test-Accuracy: 0.6018770933151245\n",
            "模型已保存\n",
            "第 35 轮训练开始\n"
          ]
        },
        {
          "name": "stderr",
          "output_type": "stream",
          "text": [
            "100%|██████████| 148/148 [00:19<00:00,  7.65it/s]\n"
          ]
        },
        {
          "name": "stdout",
          "output_type": "stream",
          "text": [
            "Train-Loss: 0.51515760185505, Train-Accuracy: 0.8278636336326599\n"
          ]
        },
        {
          "name": "stderr",
          "output_type": "stream",
          "text": [
            "100%|██████████| 104/104 [00:13<00:00,  7.92it/s]\n"
          ]
        },
        {
          "name": "stdout",
          "output_type": "stream",
          "text": [
            "Test-Loss: 1.5975924694209687, Test-Accuracy: 0.5991522669792175\n",
            "模型已保存\n",
            "第 36 轮训练开始\n"
          ]
        },
        {
          "name": "stderr",
          "output_type": "stream",
          "text": [
            "100%|██████████| 148/148 [00:19<00:00,  7.59it/s]\n"
          ]
        },
        {
          "name": "stdout",
          "output_type": "stream",
          "text": [
            "Train-Loss: 0.49026410052919195, Train-Accuracy: 0.8350624442100525\n"
          ]
        },
        {
          "name": "stderr",
          "output_type": "stream",
          "text": [
            "100%|██████████| 104/104 [00:13<00:00,  7.93it/s]\n"
          ]
        },
        {
          "name": "stdout",
          "output_type": "stream",
          "text": [
            "Test-Loss: 1.5639186132831209, Test-Accuracy: 0.6009688377380371\n",
            "模型已保存\n",
            "第 37 轮训练开始\n"
          ]
        },
        {
          "name": "stderr",
          "output_type": "stream",
          "text": [
            "100%|██████████| 148/148 [00:19<00:00,  7.43it/s]\n"
          ]
        },
        {
          "name": "stdout",
          "output_type": "stream",
          "text": [
            "Train-Loss: 0.4854228981793646, Train-Accuracy: 0.8373914957046509\n"
          ]
        },
        {
          "name": "stderr",
          "output_type": "stream",
          "text": [
            "100%|██████████| 104/104 [00:13<00:00,  7.85it/s]\n"
          ]
        },
        {
          "name": "stdout",
          "output_type": "stream",
          "text": [
            "Test-Loss: 1.617552321967016, Test-Accuracy: 0.5933999419212341\n",
            "模型已保存\n",
            "第 38 轮训练开始\n"
          ]
        },
        {
          "name": "stderr",
          "output_type": "stream",
          "text": [
            "100%|██████████| 148/148 [00:19<00:00,  7.69it/s]\n"
          ]
        },
        {
          "name": "stdout",
          "output_type": "stream",
          "text": [
            "Train-Loss: 0.5061006645340549, Train-Accuracy: 0.8304044008255005\n"
          ]
        },
        {
          "name": "stderr",
          "output_type": "stream",
          "text": [
            "100%|██████████| 104/104 [00:13<00:00,  7.82it/s]\n"
          ]
        },
        {
          "name": "stdout",
          "output_type": "stream",
          "text": [
            "Test-Loss: 1.5126168064157277, Test-Accuracy: 0.6130790114402771\n",
            "模型已保存\n",
            "第 39 轮训练开始\n"
          ]
        },
        {
          "name": "stderr",
          "output_type": "stream",
          "text": [
            "100%|██████████| 148/148 [00:18<00:00,  7.85it/s]\n"
          ]
        },
        {
          "name": "stdout",
          "output_type": "stream",
          "text": [
            "Train-Loss: 0.4803035450693462, Train-Accuracy: 0.8384501338005066\n"
          ]
        },
        {
          "name": "stderr",
          "output_type": "stream",
          "text": [
            "100%|██████████| 104/104 [00:13<00:00,  7.85it/s]\n"
          ]
        },
        {
          "name": "stdout",
          "output_type": "stream",
          "text": [
            "Test-Loss: 1.6409194822784918, Test-Accuracy: 0.5937026739120483\n",
            "模型已保存\n",
            "第 40 轮训练开始\n"
          ]
        },
        {
          "name": "stderr",
          "output_type": "stream",
          "text": [
            "100%|██████████| 148/148 [00:19<00:00,  7.69it/s]\n"
          ]
        },
        {
          "name": "stdout",
          "output_type": "stream",
          "text": [
            "Train-Loss: 0.44332221582636044, Train-Accuracy: 0.8526360392570496\n"
          ]
        },
        {
          "name": "stderr",
          "output_type": "stream",
          "text": [
            "100%|██████████| 104/104 [00:13<00:00,  7.95it/s]\n"
          ]
        },
        {
          "name": "stdout",
          "output_type": "stream",
          "text": [
            "Test-Loss: 1.5325470441332594, Test-Accuracy: 0.6167120933532715\n",
            "模型已保存\n",
            "第 41 轮训练开始\n"
          ]
        },
        {
          "name": "stderr",
          "output_type": "stream",
          "text": [
            "100%|██████████| 148/148 [00:20<00:00,  7.23it/s]\n"
          ]
        },
        {
          "name": "stdout",
          "output_type": "stream",
          "text": [
            "Train-Loss: 0.45570531442032614, Train-Accuracy: 0.851789116859436\n"
          ]
        },
        {
          "name": "stderr",
          "output_type": "stream",
          "text": [
            "100%|██████████| 104/104 [00:13<00:00,  7.99it/s]\n"
          ]
        },
        {
          "name": "stdout",
          "output_type": "stream",
          "text": [
            "Test-Loss: 1.5937451984966808, Test-Accuracy: 0.5849227905273438\n",
            "模型已保存\n",
            "第 42 轮训练开始\n"
          ]
        },
        {
          "name": "stderr",
          "output_type": "stream",
          "text": [
            "100%|██████████| 148/148 [00:19<00:00,  7.79it/s]\n"
          ]
        },
        {
          "name": "stdout",
          "output_type": "stream",
          "text": [
            "Train-Loss: 0.45990169773333006, Train-Accuracy: 0.8464958667755127\n"
          ]
        },
        {
          "name": "stderr",
          "output_type": "stream",
          "text": [
            "100%|██████████| 104/104 [00:13<00:00,  7.91it/s]\n"
          ]
        },
        {
          "name": "stdout",
          "output_type": "stream",
          "text": [
            "Test-Loss: 1.6214050369626494, Test-Accuracy: 0.5988495349884033\n",
            "模型已保存\n",
            "第 43 轮训练开始\n"
          ]
        },
        {
          "name": "stderr",
          "output_type": "stream",
          "text": [
            "100%|██████████| 148/148 [00:19<00:00,  7.57it/s]\n"
          ]
        },
        {
          "name": "stdout",
          "output_type": "stream",
          "text": [
            "Train-Loss: 0.4647600978909472, Train-Accuracy: 0.8420495390892029\n"
          ]
        },
        {
          "name": "stderr",
          "output_type": "stream",
          "text": [
            "100%|██████████| 104/104 [00:13<00:00,  7.95it/s]\n"
          ]
        },
        {
          "name": "stdout",
          "output_type": "stream",
          "text": [
            "Test-Loss: 1.602416261484722, Test-Accuracy: 0.5955192446708679\n",
            "模型已保存\n",
            "第 44 轮训练开始\n"
          ]
        },
        {
          "name": "stderr",
          "output_type": "stream",
          "text": [
            "100%|██████████| 148/148 [00:20<00:00,  7.26it/s]\n"
          ]
        },
        {
          "name": "stdout",
          "output_type": "stream",
          "text": [
            "Train-Loss: 0.4433727376849223, Train-Accuracy: 0.8464958667755127\n"
          ]
        },
        {
          "name": "stderr",
          "output_type": "stream",
          "text": [
            "100%|██████████| 104/104 [00:13<00:00,  7.93it/s]\n"
          ]
        },
        {
          "name": "stdout",
          "output_type": "stream",
          "text": [
            "Test-Loss: 1.6248537673395835, Test-Accuracy: 0.5985468029975891\n",
            "模型已保存\n",
            "第 45 轮训练开始\n"
          ]
        },
        {
          "name": "stderr",
          "output_type": "stream",
          "text": [
            "100%|██████████| 148/148 [00:20<00:00,  7.18it/s]\n"
          ]
        },
        {
          "name": "stdout",
          "output_type": "stream",
          "text": [
            "Train-Loss: 0.4518151854070445, Train-Accuracy: 0.8448020219802856\n"
          ]
        },
        {
          "name": "stderr",
          "output_type": "stream",
          "text": [
            "100%|██████████| 104/104 [00:13<00:00,  7.85it/s]\n"
          ]
        },
        {
          "name": "stdout",
          "output_type": "stream",
          "text": [
            "Test-Loss: 1.6485888765250196, Test-Accuracy: 0.6012715697288513\n",
            "模型已保存\n",
            "第 46 轮训练开始\n"
          ]
        },
        {
          "name": "stderr",
          "output_type": "stream",
          "text": [
            "100%|██████████| 148/148 [00:19<00:00,  7.58it/s]\n"
          ]
        },
        {
          "name": "stdout",
          "output_type": "stream",
          "text": [
            "Train-Loss: 0.4415657580365777, Train-Accuracy: 0.8532711863517761\n"
          ]
        },
        {
          "name": "stderr",
          "output_type": "stream",
          "text": [
            "100%|██████████| 104/104 [00:13<00:00,  7.84it/s]\n"
          ]
        },
        {
          "name": "stdout",
          "output_type": "stream",
          "text": [
            "Test-Loss: 1.617571805846572, Test-Accuracy: 0.5943081974983215\n",
            "模型已保存\n",
            "第 47 轮训练开始\n"
          ]
        },
        {
          "name": "stderr",
          "output_type": "stream",
          "text": [
            "100%|██████████| 148/148 [00:20<00:00,  7.32it/s]\n"
          ]
        },
        {
          "name": "stdout",
          "output_type": "stream",
          "text": [
            "Train-Loss: 0.4388336172970629, Train-Accuracy: 0.8524242639541626\n"
          ]
        },
        {
          "name": "stderr",
          "output_type": "stream",
          "text": [
            "100%|██████████| 104/104 [00:13<00:00,  7.85it/s]\n"
          ]
        },
        {
          "name": "stdout",
          "output_type": "stream",
          "text": [
            "Test-Loss: 1.5935412013021846, Test-Accuracy: 0.6027853488922119\n",
            "模型已保存\n",
            "第 48 轮训练开始\n"
          ]
        },
        {
          "name": "stderr",
          "output_type": "stream",
          "text": [
            "100%|██████████| 148/148 [00:20<00:00,  7.39it/s]\n"
          ]
        },
        {
          "name": "stdout",
          "output_type": "stream",
          "text": [
            "Train-Loss: 0.4537506264484764, Train-Accuracy: 0.8471310138702393\n"
          ]
        },
        {
          "name": "stderr",
          "output_type": "stream",
          "text": [
            "100%|██████████| 104/104 [00:13<00:00,  7.85it/s]\n"
          ]
        },
        {
          "name": "stdout",
          "output_type": "stream",
          "text": [
            "Test-Loss: 1.5580763492734369, Test-Accuracy: 0.6088404655456543\n",
            "模型已保存\n",
            "第 49 轮训练开始\n"
          ]
        },
        {
          "name": "stderr",
          "output_type": "stream",
          "text": [
            "100%|██████████| 148/148 [00:20<00:00,  7.34it/s]\n"
          ]
        },
        {
          "name": "stdout",
          "output_type": "stream",
          "text": [
            "Train-Loss: 0.4471089264333387, Train-Accuracy: 0.8458606600761414\n"
          ]
        },
        {
          "name": "stderr",
          "output_type": "stream",
          "text": [
            "100%|██████████| 104/104 [00:13<00:00,  7.90it/s]\n"
          ]
        },
        {
          "name": "stdout",
          "output_type": "stream",
          "text": [
            "Test-Loss: 1.5872626420118359, Test-Accuracy: 0.6085376739501953\n",
            "模型已保存\n",
            "第 50 轮训练开始\n"
          ]
        },
        {
          "name": "stderr",
          "output_type": "stream",
          "text": [
            "100%|██████████| 148/148 [00:20<00:00,  7.37it/s]\n"
          ]
        },
        {
          "name": "stdout",
          "output_type": "stream",
          "text": [
            "Train-Loss: 0.43497128281430775, Train-Accuracy: 0.8556002378463745\n"
          ]
        },
        {
          "name": "stderr",
          "output_type": "stream",
          "text": [
            "100%|██████████| 104/104 [00:13<00:00,  7.89it/s]\n"
          ]
        },
        {
          "name": "stdout",
          "output_type": "stream",
          "text": [
            "Test-Loss: 1.5916213778485107, Test-Accuracy: 0.6215561628341675\n",
            "模型已保存\n",
            "第 51 轮训练开始\n"
          ]
        },
        {
          "name": "stderr",
          "output_type": "stream",
          "text": [
            "100%|██████████| 148/148 [00:19<00:00,  7.50it/s]\n"
          ]
        },
        {
          "name": "stdout",
          "output_type": "stream",
          "text": [
            "Train-Loss: 0.4161416366585932, Train-Accuracy: 0.8630107641220093\n"
          ]
        },
        {
          "name": "stderr",
          "output_type": "stream",
          "text": [
            "100%|██████████| 104/104 [00:13<00:00,  7.81it/s]\n"
          ]
        },
        {
          "name": "stdout",
          "output_type": "stream",
          "text": [
            "Test-Loss: 1.5930143499100096, Test-Accuracy: 0.6133817434310913\n",
            "模型已保存\n",
            "第 52 轮训练开始\n"
          ]
        },
        {
          "name": "stderr",
          "output_type": "stream",
          "text": [
            "100%|██████████| 148/148 [00:19<00:00,  7.51it/s]\n"
          ]
        },
        {
          "name": "stdout",
          "output_type": "stream",
          "text": [
            "Train-Loss: 0.42117770511216085, Train-Accuracy: 0.8587762117385864\n"
          ]
        },
        {
          "name": "stderr",
          "output_type": "stream",
          "text": [
            "100%|██████████| 104/104 [00:13<00:00,  7.85it/s]\n"
          ]
        },
        {
          "name": "stdout",
          "output_type": "stream",
          "text": [
            "Test-Loss: 1.5315613395114613, Test-Accuracy: 0.6182258725166321\n",
            "模型已保存\n",
            "第 53 轮训练开始\n"
          ]
        },
        {
          "name": "stderr",
          "output_type": "stream",
          "text": [
            "100%|██████████| 148/148 [00:19<00:00,  7.51it/s]\n"
          ]
        },
        {
          "name": "stdout",
          "output_type": "stream",
          "text": [
            "Train-Loss: 0.4242687307309226, Train-Accuracy: 0.8575057983398438\n"
          ]
        },
        {
          "name": "stderr",
          "output_type": "stream",
          "text": [
            "100%|██████████| 104/104 [00:13<00:00,  7.85it/s]\n"
          ]
        },
        {
          "name": "stdout",
          "output_type": "stream",
          "text": [
            "Test-Loss: 1.5445647953930242, Test-Accuracy: 0.6227671504020691\n",
            "模型已保存\n",
            "第 54 轮训练开始\n"
          ]
        },
        {
          "name": "stderr",
          "output_type": "stream",
          "text": [
            "100%|██████████| 148/148 [00:19<00:00,  7.63it/s]\n"
          ]
        },
        {
          "name": "stdout",
          "output_type": "stream",
          "text": [
            "Train-Loss: 0.38006204660731857, Train-Accuracy: 0.878255307674408\n"
          ]
        },
        {
          "name": "stderr",
          "output_type": "stream",
          "text": [
            "100%|██████████| 104/104 [00:13<00:00,  7.93it/s]\n"
          ]
        },
        {
          "name": "stdout",
          "output_type": "stream",
          "text": [
            "Test-Loss: 1.5612909785191869, Test-Accuracy: 0.6200423836708069\n",
            "模型已保存\n",
            "第 55 轮训练开始\n"
          ]
        },
        {
          "name": "stderr",
          "output_type": "stream",
          "text": [
            "100%|██████████| 148/148 [00:20<00:00,  7.31it/s]\n"
          ]
        },
        {
          "name": "stdout",
          "output_type": "stream",
          "text": [
            "Train-Loss: 0.42055982387270335, Train-Accuracy: 0.8632224798202515\n"
          ]
        },
        {
          "name": "stderr",
          "output_type": "stream",
          "text": [
            "100%|██████████| 104/104 [00:13<00:00,  7.89it/s]\n"
          ]
        },
        {
          "name": "stdout",
          "output_type": "stream",
          "text": [
            "Test-Loss: 1.6516743218072285, Test-Accuracy: 0.6091431975364685\n",
            "模型已保存\n",
            "第 56 轮训练开始\n"
          ]
        },
        {
          "name": "stderr",
          "output_type": "stream",
          "text": [
            "100%|██████████| 148/148 [00:19<00:00,  7.52it/s]\n"
          ]
        },
        {
          "name": "stdout",
          "output_type": "stream",
          "text": [
            "Train-Loss: 0.4121609603938424, Train-Accuracy: 0.8619521260261536\n"
          ]
        },
        {
          "name": "stderr",
          "output_type": "stream",
          "text": [
            "100%|██████████| 104/104 [00:13<00:00,  7.86it/s]\n"
          ]
        },
        {
          "name": "stdout",
          "output_type": "stream",
          "text": [
            "Test-Loss: 1.6105164517210067, Test-Accuracy: 0.6282167434692383\n",
            "模型已保存\n",
            "第 57 轮训练开始\n"
          ]
        },
        {
          "name": "stderr",
          "output_type": "stream",
          "text": [
            "100%|██████████| 148/148 [00:20<00:00,  7.39it/s]\n"
          ]
        },
        {
          "name": "stdout",
          "output_type": "stream",
          "text": [
            "Train-Loss: 0.39955541445445186, Train-Accuracy: 0.8596230745315552\n"
          ]
        },
        {
          "name": "stderr",
          "output_type": "stream",
          "text": [
            "100%|██████████| 104/104 [00:13<00:00,  7.70it/s]\n"
          ]
        },
        {
          "name": "stdout",
          "output_type": "stream",
          "text": [
            "Test-Loss: 1.6556053328362517, Test-Accuracy: 0.6164093017578125\n",
            "模型已保存\n",
            "第 58 轮训练开始\n"
          ]
        },
        {
          "name": "stderr",
          "output_type": "stream",
          "text": [
            "100%|██████████| 148/148 [00:19<00:00,  7.45it/s]\n"
          ]
        },
        {
          "name": "stdout",
          "output_type": "stream",
          "text": [
            "Train-Loss: 0.41442998474542303, Train-Accuracy: 0.8608934879302979\n"
          ]
        },
        {
          "name": "stderr",
          "output_type": "stream",
          "text": [
            "100%|██████████| 104/104 [00:13<00:00,  7.86it/s]\n"
          ]
        },
        {
          "name": "stdout",
          "output_type": "stream",
          "text": [
            "Test-Loss: 1.6610304836500713, Test-Accuracy: 0.5982440114021301\n",
            "模型已保存\n",
            "第 59 轮训练开始\n"
          ]
        },
        {
          "name": "stderr",
          "output_type": "stream",
          "text": [
            "100%|██████████| 148/148 [00:19<00:00,  7.41it/s]\n"
          ]
        },
        {
          "name": "stdout",
          "output_type": "stream",
          "text": [
            "Train-Loss: 0.3792913054829302, Train-Accuracy: 0.8746559023857117\n"
          ]
        },
        {
          "name": "stderr",
          "output_type": "stream",
          "text": [
            "100%|██████████| 104/104 [00:13<00:00,  7.86it/s]\n"
          ]
        },
        {
          "name": "stdout",
          "output_type": "stream",
          "text": [
            "Test-Loss: 1.6008425570963514, Test-Accuracy: 0.6245837211608887\n",
            "模型已保存\n",
            "第 60 轮训练开始\n"
          ]
        },
        {
          "name": "stderr",
          "output_type": "stream",
          "text": [
            "100%|██████████| 148/148 [00:19<00:00,  7.72it/s]\n"
          ]
        },
        {
          "name": "stdout",
          "output_type": "stream",
          "text": [
            "Train-Loss: 0.3915333554965824, Train-Accuracy: 0.8672453761100769\n"
          ]
        },
        {
          "name": "stderr",
          "output_type": "stream",
          "text": [
            "100%|██████████| 104/104 [00:13<00:00,  7.87it/s]\n"
          ]
        },
        {
          "name": "stdout",
          "output_type": "stream",
          "text": [
            "Test-Loss: 1.534746900313629, Test-Accuracy: 0.6291250586509705\n",
            "模型已保存\n",
            "第 61 轮训练开始\n"
          ]
        },
        {
          "name": "stderr",
          "output_type": "stream",
          "text": [
            "100%|██████████| 148/148 [00:19<00:00,  7.67it/s]\n"
          ]
        },
        {
          "name": "stdout",
          "output_type": "stream",
          "text": [
            "Train-Loss: 0.3772156733894106, Train-Accuracy: 0.8676688075065613\n"
          ]
        },
        {
          "name": "stderr",
          "output_type": "stream",
          "text": [
            "100%|██████████| 104/104 [00:13<00:00,  7.80it/s]\n"
          ]
        },
        {
          "name": "stdout",
          "output_type": "stream",
          "text": [
            "Test-Loss: 1.5188474099707538, Test-Accuracy: 0.6257947087287903\n",
            "模型已保存\n",
            "第 62 轮训练开始\n"
          ]
        },
        {
          "name": "stderr",
          "output_type": "stream",
          "text": [
            "100%|██████████| 148/148 [00:20<00:00,  7.38it/s]\n"
          ]
        },
        {
          "name": "stdout",
          "output_type": "stream",
          "text": [
            "Train-Loss: 0.3937675122383816, Train-Accuracy: 0.8699978590011597\n"
          ]
        },
        {
          "name": "stderr",
          "output_type": "stream",
          "text": [
            "100%|██████████| 104/104 [00:13<00:00,  7.86it/s]\n"
          ]
        },
        {
          "name": "stdout",
          "output_type": "stream",
          "text": [
            "Test-Loss: 1.5480412961929233, Test-Accuracy: 0.6173176169395447\n",
            "模型已保存\n",
            "第 63 轮训练开始\n"
          ]
        },
        {
          "name": "stderr",
          "output_type": "stream",
          "text": [
            "100%|██████████| 148/148 [00:19<00:00,  7.46it/s]\n"
          ]
        },
        {
          "name": "stdout",
          "output_type": "stream",
          "text": [
            "Train-Loss: 0.37033478837762374, Train-Accuracy: 0.8774083852767944\n"
          ]
        },
        {
          "name": "stderr",
          "output_type": "stream",
          "text": [
            "100%|██████████| 104/104 [00:13<00:00,  7.90it/s]\n"
          ]
        },
        {
          "name": "stdout",
          "output_type": "stream",
          "text": [
            "Test-Loss: 1.585076824340393, Test-Accuracy: 0.6176203489303589\n",
            "模型已保存\n",
            "第 64 轮训练开始\n"
          ]
        },
        {
          "name": "stderr",
          "output_type": "stream",
          "text": [
            "100%|██████████| 148/148 [00:19<00:00,  7.54it/s]\n"
          ]
        },
        {
          "name": "stdout",
          "output_type": "stream",
          "text": [
            "Train-Loss: 0.38348506774383406, Train-Accuracy: 0.8697861433029175\n"
          ]
        },
        {
          "name": "stderr",
          "output_type": "stream",
          "text": [
            "100%|██████████| 104/104 [00:13<00:00,  7.87it/s]\n"
          ]
        },
        {
          "name": "stdout",
          "output_type": "stream",
          "text": [
            "Test-Loss: 1.5397921157828829, Test-Accuracy: 0.6260975003242493\n",
            "模型已保存\n",
            "第 65 轮训练开始\n"
          ]
        },
        {
          "name": "stderr",
          "output_type": "stream",
          "text": [
            "100%|██████████| 148/148 [00:19<00:00,  7.48it/s]\n"
          ]
        },
        {
          "name": "stdout",
          "output_type": "stream",
          "text": [
            "Train-Loss: 0.3457013177033731, Train-Accuracy: 0.8820664882659912\n"
          ]
        },
        {
          "name": "stderr",
          "output_type": "stream",
          "text": [
            "100%|██████████| 104/104 [00:13<00:00,  7.93it/s]\n"
          ]
        },
        {
          "name": "stdout",
          "output_type": "stream",
          "text": [
            "Test-Loss: 1.6028635454582079, Test-Accuracy: 0.6221616864204407\n",
            "模型已保存\n",
            "第 66 轮训练开始\n"
          ]
        },
        {
          "name": "stderr",
          "output_type": "stream",
          "text": [
            "100%|██████████| 148/148 [00:20<00:00,  7.30it/s]\n"
          ]
        },
        {
          "name": "stdout",
          "output_type": "stream",
          "text": [
            "Train-Loss: 0.35978965519621997, Train-Accuracy: 0.8820664882659912\n"
          ]
        },
        {
          "name": "stderr",
          "output_type": "stream",
          "text": [
            "100%|██████████| 104/104 [00:13<00:00,  7.83it/s]\n"
          ]
        },
        {
          "name": "stdout",
          "output_type": "stream",
          "text": [
            "Test-Loss: 1.5672608804890433, Test-Accuracy: 0.6264002323150635\n",
            "模型已保存\n",
            "第 67 轮训练开始\n"
          ]
        },
        {
          "name": "stderr",
          "output_type": "stream",
          "text": [
            "100%|██████████| 148/148 [00:19<00:00,  7.67it/s]\n"
          ]
        },
        {
          "name": "stdout",
          "output_type": "stream",
          "text": [
            "Train-Loss: 0.3898334498630599, Train-Accuracy: 0.8676688075065613\n"
          ]
        },
        {
          "name": "stderr",
          "output_type": "stream",
          "text": [
            "100%|██████████| 104/104 [00:13<00:00,  7.99it/s]\n"
          ]
        },
        {
          "name": "stdout",
          "output_type": "stream",
          "text": [
            "Test-Loss: 1.6609782591177917, Test-Accuracy: 0.5894641280174255\n",
            "模型已保存\n",
            "第 68 轮训练开始\n"
          ]
        },
        {
          "name": "stderr",
          "output_type": "stream",
          "text": [
            "100%|██████████| 148/148 [00:19<00:00,  7.72it/s]\n"
          ]
        },
        {
          "name": "stdout",
          "output_type": "stream",
          "text": [
            "Train-Loss: 0.39657158396543396, Train-Accuracy: 0.8666101694107056\n"
          ]
        },
        {
          "name": "stderr",
          "output_type": "stream",
          "text": [
            "100%|██████████| 104/104 [00:12<00:00,  8.10it/s]\n"
          ]
        },
        {
          "name": "stdout",
          "output_type": "stream",
          "text": [
            "Test-Loss: 1.5471378852481594, Test-Accuracy: 0.6351801156997681\n",
            "模型已保存\n",
            "第 69 轮训练开始\n"
          ]
        },
        {
          "name": "stderr",
          "output_type": "stream",
          "text": [
            "100%|██████████| 148/148 [00:20<00:00,  7.18it/s]\n"
          ]
        },
        {
          "name": "stdout",
          "output_type": "stream",
          "text": [
            "Train-Loss: 0.38773909129759226, Train-Accuracy: 0.8729620575904846\n"
          ]
        },
        {
          "name": "stderr",
          "output_type": "stream",
          "text": [
            "100%|██████████| 104/104 [00:12<00:00,  8.01it/s]\n"
          ]
        },
        {
          "name": "stdout",
          "output_type": "stream",
          "text": [
            "Test-Loss: 1.508679398218502, Test-Accuracy: 0.6391159296035767\n",
            "模型已保存\n",
            "第 70 轮训练开始\n"
          ]
        },
        {
          "name": "stderr",
          "output_type": "stream",
          "text": [
            "100%|██████████| 148/148 [00:19<00:00,  7.55it/s]\n"
          ]
        },
        {
          "name": "stdout",
          "output_type": "stream",
          "text": [
            "Train-Loss: 0.33088770589850197, Train-Accuracy: 0.8875714540481567\n"
          ]
        },
        {
          "name": "stderr",
          "output_type": "stream",
          "text": [
            "100%|██████████| 104/104 [00:13<00:00,  7.91it/s]\n"
          ]
        },
        {
          "name": "stdout",
          "output_type": "stream",
          "text": [
            "Test-Loss: 1.5630373924095415, Test-Accuracy: 0.6270057559013367\n",
            "模型已保存\n",
            "第 71 轮训练开始\n"
          ]
        },
        {
          "name": "stderr",
          "output_type": "stream",
          "text": [
            "100%|██████████| 148/148 [00:19<00:00,  7.66it/s]\n"
          ]
        },
        {
          "name": "stdout",
          "output_type": "stream",
          "text": [
            "Train-Loss: 0.34662763993668905, Train-Accuracy: 0.8835485577583313\n"
          ]
        },
        {
          "name": "stderr",
          "output_type": "stream",
          "text": [
            "100%|██████████| 104/104 [00:12<00:00,  8.04it/s]\n"
          ]
        },
        {
          "name": "stdout",
          "output_type": "stream",
          "text": [
            "Test-Loss: 1.5053552768463587, Test-Accuracy: 0.6348773837089539\n",
            "模型已保存\n",
            "第 72 轮训练开始\n"
          ]
        },
        {
          "name": "stderr",
          "output_type": "stream",
          "text": [
            "100%|██████████| 148/148 [00:19<00:00,  7.66it/s]\n"
          ]
        },
        {
          "name": "stdout",
          "output_type": "stream",
          "text": [
            "Train-Loss: 0.31740272040087464, Train-Accuracy: 0.8934998512268066\n"
          ]
        },
        {
          "name": "stderr",
          "output_type": "stream",
          "text": [
            "100%|██████████| 104/104 [00:12<00:00,  8.10it/s]\n"
          ]
        },
        {
          "name": "stdout",
          "output_type": "stream",
          "text": [
            "Test-Loss: 1.5856659085397609, Test-Accuracy: 0.6230699419975281\n",
            "模型已保存\n",
            "第 73 轮训练开始\n"
          ]
        },
        {
          "name": "stderr",
          "output_type": "stream",
          "text": [
            "100%|██████████| 148/148 [00:19<00:00,  7.59it/s]\n"
          ]
        },
        {
          "name": "stdout",
          "output_type": "stream",
          "text": [
            "Train-Loss: 0.3789458010324401, Train-Accuracy: 0.8672453761100769\n"
          ]
        },
        {
          "name": "stderr",
          "output_type": "stream",
          "text": [
            "100%|██████████| 104/104 [00:13<00:00,  7.98it/s]\n"
          ]
        },
        {
          "name": "stdout",
          "output_type": "stream",
          "text": [
            "Test-Loss: 1.5979333515063294, Test-Accuracy: 0.6049046516418457\n",
            "模型已保存\n",
            "第 74 轮训练开始\n"
          ]
        },
        {
          "name": "stderr",
          "output_type": "stream",
          "text": [
            "100%|██████████| 148/148 [00:19<00:00,  7.57it/s]\n"
          ]
        },
        {
          "name": "stdout",
          "output_type": "stream",
          "text": [
            "Train-Loss: 0.3457678329091493, Train-Accuracy: 0.891170859336853\n"
          ]
        },
        {
          "name": "stderr",
          "output_type": "stream",
          "text": [
            "100%|██████████| 104/104 [00:13<00:00,  7.93it/s]\n"
          ]
        },
        {
          "name": "stdout",
          "output_type": "stream",
          "text": [
            "Test-Loss: 1.6403847683425243, Test-Accuracy: 0.6015743017196655\n",
            "模型已保存\n",
            "第 75 轮训练开始\n"
          ]
        },
        {
          "name": "stderr",
          "output_type": "stream",
          "text": [
            "100%|██████████| 148/148 [00:19<00:00,  7.53it/s]\n"
          ]
        },
        {
          "name": "stdout",
          "output_type": "stream",
          "text": [
            "Train-Loss: 0.3504868854431184, Train-Accuracy: 0.8833368420600891\n"
          ]
        },
        {
          "name": "stderr",
          "output_type": "stream",
          "text": [
            "100%|██████████| 104/104 [00:13<00:00,  7.96it/s]\n"
          ]
        },
        {
          "name": "stdout",
          "output_type": "stream",
          "text": [
            "Test-Loss: 1.534792044110057, Test-Accuracy: 0.6270057559013367\n",
            "模型已保存\n",
            "第 76 轮训练开始\n"
          ]
        },
        {
          "name": "stderr",
          "output_type": "stream",
          "text": [
            "100%|██████████| 148/148 [00:19<00:00,  7.57it/s]\n"
          ]
        },
        {
          "name": "stdout",
          "output_type": "stream",
          "text": [
            "Train-Loss: 0.33250393325523275, Train-Accuracy: 0.8888418078422546\n"
          ]
        },
        {
          "name": "stderr",
          "output_type": "stream",
          "text": [
            "100%|██████████| 104/104 [00:13<00:00,  7.97it/s]\n"
          ]
        },
        {
          "name": "stdout",
          "output_type": "stream",
          "text": [
            "Test-Loss: 1.6293429774729873, Test-Accuracy: 0.6136845350265503\n",
            "模型已保存\n",
            "第 77 轮训练开始\n"
          ]
        },
        {
          "name": "stderr",
          "output_type": "stream",
          "text": [
            "100%|██████████| 148/148 [00:19<00:00,  7.43it/s]\n"
          ]
        },
        {
          "name": "stdout",
          "output_type": "stream",
          "text": [
            "Train-Loss: 0.3362436383022435, Train-Accuracy: 0.8871479630470276\n"
          ]
        },
        {
          "name": "stderr",
          "output_type": "stream",
          "text": [
            "100%|██████████| 104/104 [00:13<00:00,  8.00it/s]\n"
          ]
        },
        {
          "name": "stdout",
          "output_type": "stream",
          "text": [
            "Test-Loss: 1.5369129109808506, Test-Accuracy: 0.6333636045455933\n",
            "模型已保存\n",
            "第 78 轮训练开始\n"
          ]
        },
        {
          "name": "stderr",
          "output_type": "stream",
          "text": [
            "100%|██████████| 148/148 [00:19<00:00,  7.51it/s]\n"
          ]
        },
        {
          "name": "stdout",
          "output_type": "stream",
          "text": [
            "Train-Loss: 0.36550087699591294, Train-Accuracy: 0.8774083852767944\n"
          ]
        },
        {
          "name": "stderr",
          "output_type": "stream",
          "text": [
            "100%|██████████| 104/104 [00:12<00:00,  8.02it/s]\n"
          ]
        },
        {
          "name": "stdout",
          "output_type": "stream",
          "text": [
            "Test-Loss: 1.6416569286644405, Test-Accuracy: 0.6191341280937195\n",
            "模型已保存\n",
            "第 79 轮训练开始\n"
          ]
        },
        {
          "name": "stderr",
          "output_type": "stream",
          "text": [
            "100%|██████████| 148/148 [00:18<00:00,  7.83it/s]\n"
          ]
        },
        {
          "name": "stdout",
          "output_type": "stream",
          "text": [
            "Train-Loss: 0.3554793077393051, Train-Accuracy: 0.8843954801559448\n"
          ]
        },
        {
          "name": "stderr",
          "output_type": "stream",
          "text": [
            "100%|██████████| 104/104 [00:13<00:00,  8.00it/s]\n"
          ]
        },
        {
          "name": "stdout",
          "output_type": "stream",
          "text": [
            "Test-Loss: 1.5188705693076605, Test-Accuracy: 0.6397214531898499\n",
            "模型已保存\n",
            "第 80 轮训练开始\n"
          ]
        },
        {
          "name": "stderr",
          "output_type": "stream",
          "text": [
            "100%|██████████| 148/148 [00:19<00:00,  7.63it/s]\n"
          ]
        },
        {
          "name": "stdout",
          "output_type": "stream",
          "text": [
            "Train-Loss: 0.30741533156852713, Train-Accuracy: 0.9009104371070862\n"
          ]
        },
        {
          "name": "stderr",
          "output_type": "stream",
          "text": [
            "100%|██████████| 104/104 [00:13<00:00,  7.94it/s]\n"
          ]
        },
        {
          "name": "stdout",
          "output_type": "stream",
          "text": [
            "Test-Loss: 1.6236555280376483, Test-Accuracy: 0.6067211627960205\n",
            "模型已保存\n"
          ]
        }
      ],
      "source": [
        "# 全部训练损失\n",
        "train_loss_all = []\n",
        "# 全部测试损失\n",
        "test_loss_all = []\n",
        "# 全部训练精度\n",
        "train_acc_all = []\n",
        "# 全部测试精度\n",
        "test_acc_all = []\n",
        "\n",
        "for i in range(epochs):\n",
        "    print(\"第 {} 轮训练开始\".format(i + 1))\n",
        "    # 开始训练\n",
        "    net.train()  # 设置网络为训练模式\n",
        "    train_loss = 0  # 初始化训练损失\n",
        "    train_acc = 0.0  # 初始化训练准确率\n",
        "    train_num = 0  # 初始化训练数\n",
        "    # 设置训练进度条\n",
        "    train_bar = tqdm(train_loader)\n",
        "    for step, data in enumerate(train_bar):\n",
        "        # 获取数据\n",
        "        img, target = data\n",
        "        img = img.to(device)\n",
        "        target = target.to(device)\n",
        "        # 前馈\n",
        "        train_output = net(img)\n",
        "        loss = loss_func(train_output, target)\n",
        "        train_output = torch.argmax(train_output, 1)\n",
        "        # 后馈\n",
        "        optimizer.zero_grad()\n",
        "        loss.backward()\n",
        "        optimizer.step()\n",
        "        # 计算 Loss 和 Accuracy\n",
        "        train_loss += abs(loss.item()) * img.size(0)\n",
        "        accuracy = torch.sum(train_output == target)\n",
        "        train_acc += accuracy\n",
        "        train_num += img.size(0)\n",
        "    print(\"Train-Loss: {}, Train-Accuracy: {}\".format(train_loss / train_num, train_acc / train_num))\n",
        "    train_loss_all.append(train_loss / train_num)\n",
        "    train_acc_all.append(train_acc.double().item() / train_num)\n",
        "    # 开始测试\n",
        "    net.eval()\t# 设置网络为测试模式\n",
        "    test_loss = 0\t# 初始化测试损失\n",
        "    test_acc = 0.0\t# 初始化测试准确率\n",
        "    test_num = 0\t# 初始化测试数\n",
        "    with torch.no_grad():\n",
        "        # 设置训练进度条\n",
        "        test_bar = tqdm(test_loader)\n",
        "        for data in test_bar:\n",
        "            # 加载数据\n",
        "            img, target = data\n",
        "            img = img.to(device)\n",
        "            target = target.to(device)\n",
        "\t\t\t# 前馈\n",
        "            test_output = net(img)\n",
        "            loss = loss_func(test_output, target)\n",
        "            test_output = torch.argmax(test_output, 1)\n",
        "\t\t\t# 计算 Loss 和 Accuracy\n",
        "            test_loss += abs(loss.item()) * img.size(0)\n",
        "            accuracy = torch.sum(test_output == target)\n",
        "            test_acc += accuracy\n",
        "            test_num += img.size(0)\n",
        "        print(\"Test-Loss: {}, Test-Accuracy: {}\".format(test_loss / test_num, test_acc / test_num))\n",
        "        test_loss_all.append(test_loss / test_num)\n",
        "        test_acc_all.append(test_acc.double().item() / test_num)\n",
        "\n",
        "    # 保存模型\n",
        "    torch.save(net, save_path + \"/ResNet{}.pth\".format(i + 1))\n",
        "    print(\"模型已保存\")"
      ]
    },
    {
      "attachments": {},
      "cell_type": "markdown",
      "metadata": {
        "id": "zLVG5ASvAlkk"
      },
      "source": [
        "### 10. Draw Figures"
      ]
    },
    {
      "cell_type": "code",
      "execution_count": null,
      "metadata": {
        "colab": {
          "base_uri": "https://localhost:8080/",
          "height": 279
        },
        "id": "Abh7HmbAAmAq",
        "outputId": "56534d2f-fc20-418d-924a-5a58ac163518"
      },
      "outputs": [
        {
          "data": {
            "image/png": "[encoded data removed]",
            "text/plain": [
              "<Figure size 864x288 with 2 Axes>"
            ]
          },
          "metadata": {
            "needs_background": "light"
          },
          "output_type": "display_data"
        }
      ],
      "source": [
        "# 绘制图像\n",
        "plt.figure(figsize=(12, 4))\n",
        "# 绘制 Loss 图像\n",
        "plt.subplot(1, 2, 1)\n",
        "plt.plot(range(epochs), train_loss_all, \"ro-\", label=\"Train Loss\")\n",
        "plt.plot(range(epochs), test_loss_all, \"bs-\", label=\"Test Loss\")\n",
        "plt.xlabel(\"Epoch\")\n",
        "plt.ylabel(\"Loss\")\n",
        "plt.legend()\n",
        "# 绘制 Accuracy 图像\n",
        "plt.subplot(1, 2, 2)\n",
        "plt.plot(range(epochs), train_acc_all, \"ro-\", label=\"Train Accuracy\")\n",
        "plt.plot(range(epochs), test_acc_all, \"bs-\", label=\"Test Accuracy\")\n",
        "plt.xlabel(\"Epoch\")\n",
        "plt.ylabel(\"Accuracy\")\n",
        "plt.legend()\n",
        "# 显示图像\n",
        "plt.show()"
      ]
    }
  ],
  "metadata": {
    "accelerator": "GPU",
    "colab": {
      "collapsed_sections": [
        "fyjuqoSvfN2C",
        "BaM_Ognw-xj9",
        "rVmzOk1TCM2m",
        "J5bYj8mL_FCu",
        "2m2Y3Swr_ON-",
        "fzbzYsXx_bBx",
        "6jY55UtShRYk",
        "cqR-o5aG_mY_",
        "Lw-cq3ynAHVm",
        "XKpTSoPhAM_p",
        "9Fj_U5wjAXg6",
        "zLVG5ASvAlkk"
      ],
      "provenance": []
    },
    "gpuClass": "standard",
    "kernelspec": {
      "display_name": "Python 3",
      "name": "python3"
    },
    "language_info": {
      "name": "python",
      "version": "3.9.16"
    }
  },
  "nbformat": 4,
  "nbformat_minor": 0
}
